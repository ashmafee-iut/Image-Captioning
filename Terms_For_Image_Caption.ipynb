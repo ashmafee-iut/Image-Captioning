{
  "nbformat": 4,
  "nbformat_minor": 0,
  "metadata": {
    "colab": {
      "provenance": [],
      "authorship_tag": "ABX9TyMMlD41QU6PezF+JL0v6URd",
      "include_colab_link": true
    },
    "kernelspec": {
      "name": "python3",
      "display_name": "Python 3"
    },
    "language_info": {
      "name": "python"
    }
  },
  "cells": [
    {
      "cell_type": "markdown",
      "metadata": {
        "id": "view-in-github",
        "colab_type": "text"
      },
      "source": [
        "<a href=\"https://colab.research.google.com/github/ashmafee-iut/Image-Captioning/blob/main/Terms_For_Image_Caption.ipynb\" target=\"_parent\"><img src=\"https://colab.research.google.com/assets/colab-badge.svg\" alt=\"Open In Colab\"/></a>"
      ]
    },
    {
      "cell_type": "markdown",
      "source": [
        "**Points to be explored next:** \n",
        "\n",
        " - reshape() on an image file"
      ],
      "metadata": {
        "id": "ucBXU5gf4U7d"
      }
    },
    {
      "cell_type": "markdown",
      "source": [
        "# **os.listdir()**\n",
        "**os.listdir()** method in python is used to get the list of all files and directories in the specified directory. If we don’t specify any directory, then list of files and directories in the current working directory will be returned."
      ],
      "metadata": {
        "id": "nQZmqZKAtuIX"
      }
    },
    {
      "cell_type": "code",
      "execution_count": 1,
      "metadata": {
        "colab": {
          "base_uri": "https://localhost:8080/"
        },
        "id": "wE_77XQDtiqs",
        "outputId": "6cbeb8cf-fc7f-4fc8-fa04-4051a483e500"
      },
      "outputs": [
        {
          "output_type": "stream",
          "name": "stdout",
          "text": [
            "Files and directories in ' / ' :\n",
            "['boot', 'mnt', 'opt', 'run', 'root', 'sys', 'var', 'home', 'bin', 'tmp', 'proc', 'srv', 'media', 'dev', 'lib64', 'usr', 'lib', 'etc', 'sbin', '.dockerenv', 'datalab', 'tools', 'content', 'python-apt', 'lib32', 'NGC-DL-CONTAINER-LICENSE']\n",
            "boot\n",
            "mnt\n",
            "opt\n",
            "run\n",
            "root\n",
            "sys\n",
            "var\n",
            "home\n",
            "bin\n",
            "tmp\n",
            "proc\n",
            "srv\n",
            "media\n",
            "dev\n",
            "lib64\n",
            "usr\n",
            "lib\n",
            "etc\n",
            "sbin\n",
            ".dockerenv\n",
            "datalab\n",
            "tools\n",
            "content\n",
            "python-apt\n",
            "lib32\n",
            "NGC-DL-CONTAINER-LICENSE\n"
          ]
        }
      ],
      "source": [
        "# Python program to explain os.listdir() method \n",
        "    \n",
        "# importing os module \n",
        "import os\n",
        "  \n",
        "# Get the list of all files and directories\n",
        "# in the root directory\n",
        "path = \"/\"\n",
        "dir_list = os.listdir(path)\n",
        "  \n",
        "print(\"Files and directories in '\", path, \"' :\") \n",
        "  \n",
        "# print the list\n",
        "print(dir_list)\n",
        "\n",
        "print(*dir_list, sep = \"\\n\")"
      ]
    },
    {
      "cell_type": "markdown",
      "source": [
        "# **numpy_array.shape() AND numpy_array.reshape()**"
      ],
      "metadata": {
        "id": "56Lr7Nzv5c67"
      }
    },
    {
      "cell_type": "markdown",
      "source": [
        "# **Shape of an array:**\n",
        "\n",
        " - The shape of an array is the number of elements in each dimension.\n",
        "\n",
        "\n",
        "**NumPy** arrays have an attribute called **shape** that returns a **tuple with each index** having the number of corresponding elements.\n",
        "\n",
        " > **Syntax:** numpy.shape(array_name) \n",
        "\n",
        " > **Parameters:** Array is passed as a Parameter. \n",
        "\n",
        " > **Return:** \n",
        "  - A **tuple** whose elements give the lengths of EACH corresponding array dimensions. \n",
        "  - **Integers** at **every index** tells about the number of elements the **corresponding dimension** has.\n",
        "  - total number of indices indicates total number of dimensions of that array"
      ],
      "metadata": {
        "id": "SEiXBC_z1I0m"
      }
    },
    {
      "cell_type": "code",
      "source": [
        "import numpy as np\n",
        "\n",
        "arr = np.array([[1, 2, 3, 4], [5, 6, 7, 8]])\n",
        "print(arr.shape)\n",
        "\n",
        "arr1 = np.array([[1, 3, 5, 7], [2, 4, 6, 8]])\n",
        "print(arr1.shape)\n",
        "\n",
        "x = np.array([1, 2, 3, 4])\n",
        "print(x.shape)"
      ],
      "metadata": {
        "colab": {
          "base_uri": "https://localhost:8080/"
        },
        "id": "1bt9nHoa1cDu",
        "outputId": "7dbfe014-d799-49a3-a7b1-13b5e4afa606"
      },
      "execution_count": 3,
      "outputs": [
        {
          "output_type": "stream",
          "name": "stdout",
          "text": [
            "(2, 4)\n",
            "(2, 4)\n",
            "(4,)\n"
          ]
        }
      ]
    },
    {
      "cell_type": "code",
      "source": [
        "y = np.zeros((2, 3, 4))\n",
        "print(y.shape)\n",
        "print(y)\n",
        "\n",
        "print('-----------------------')\n",
        "y.shape = (3, 8)\n",
        "print(y)\n",
        "\n",
        "# positons = (clus, row, col)\n",
        "\n",
        "print('-----------------------')\n",
        "y.shape = (2, 2, 3, 2)\n",
        "print(y)\n",
        "\n",
        "print('-----------------------')\n",
        "arr2 = np.array([[[1, 2], [3, 4]], [[5, 6], [7, 8]]])\n",
        "print(arr2)\n",
        "print(arr2.shape)"
      ],
      "metadata": {
        "colab": {
          "base_uri": "https://localhost:8080/"
        },
        "id": "958rKtWXKSJc",
        "outputId": "afc07b98-27bd-415a-bc74-b1a5c4c0dd82"
      },
      "execution_count": 22,
      "outputs": [
        {
          "output_type": "stream",
          "name": "stdout",
          "text": [
            "(2, 3, 4)\n",
            "[[[0. 0. 0. 0.]\n",
            "  [0. 0. 0. 0.]\n",
            "  [0. 0. 0. 0.]]\n",
            "\n",
            " [[0. 0. 0. 0.]\n",
            "  [0. 0. 0. 0.]\n",
            "  [0. 0. 0. 0.]]]\n",
            "-----------------------\n",
            "[[0. 0. 0. 0. 0. 0. 0. 0.]\n",
            " [0. 0. 0. 0. 0. 0. 0. 0.]\n",
            " [0. 0. 0. 0. 0. 0. 0. 0.]]\n",
            "-----------------------\n",
            "[[[[0. 0.]\n",
            "   [0. 0.]\n",
            "   [0. 0.]]\n",
            "\n",
            "  [[0. 0.]\n",
            "   [0. 0.]\n",
            "   [0. 0.]]]\n",
            "\n",
            "\n",
            " [[[0. 0.]\n",
            "   [0. 0.]\n",
            "   [0. 0.]]\n",
            "\n",
            "  [[0. 0.]\n",
            "   [0. 0.]\n",
            "   [0. 0.]]]]\n",
            "-----------------------\n",
            "[[[1 2]\n",
            "  [3 4]]\n",
            "\n",
            " [[5 6]\n",
            "  [7 8]]]\n",
            "(2, 2, 2)\n"
          ]
        }
      ]
    },
    {
      "cell_type": "code",
      "source": [
        "# if shape is not matched with 24 elements \n",
        "y.shape = (3, 6)\n",
        "print(y)"
      ],
      "metadata": {
        "colab": {
          "base_uri": "https://localhost:8080/",
          "height": 200
        },
        "id": "KvdctYTuKwWK",
        "outputId": "0490e604-178e-4720-b901-3a69e0cd8c4a"
      },
      "execution_count": 21,
      "outputs": [
        {
          "output_type": "error",
          "ename": "ValueError",
          "evalue": "ignored",
          "traceback": [
            "\u001b[0;31m---------------------------------------------------------------------------\u001b[0m",
            "\u001b[0;31mValueError\u001b[0m                                Traceback (most recent call last)",
            "\u001b[0;32m<ipython-input-21-e28fe4e487fd>\u001b[0m in \u001b[0;36m<module>\u001b[0;34m\u001b[0m\n\u001b[1;32m      1\u001b[0m \u001b[0;31m# if shape is not matched with 24 elements\u001b[0m\u001b[0;34m\u001b[0m\u001b[0;34m\u001b[0m\u001b[0;34m\u001b[0m\u001b[0m\n\u001b[0;32m----> 2\u001b[0;31m \u001b[0my\u001b[0m\u001b[0;34m.\u001b[0m\u001b[0mshape\u001b[0m \u001b[0;34m=\u001b[0m \u001b[0;34m(\u001b[0m\u001b[0;36m3\u001b[0m\u001b[0;34m,\u001b[0m \u001b[0;36m6\u001b[0m\u001b[0;34m)\u001b[0m\u001b[0;34m\u001b[0m\u001b[0;34m\u001b[0m\u001b[0m\n\u001b[0m\u001b[1;32m      3\u001b[0m \u001b[0mprint\u001b[0m\u001b[0;34m(\u001b[0m\u001b[0my\u001b[0m\u001b[0;34m)\u001b[0m\u001b[0;34m\u001b[0m\u001b[0;34m\u001b[0m\u001b[0m\n",
            "\u001b[0;31mValueError\u001b[0m: cannot reshape array of size 24 into shape (3,6)"
          ]
        }
      ]
    },
    {
      "cell_type": "markdown",
      "source": [
        "Create an array with **5 dimensions** using **ndmin** using a vector with values 1,2,3,4 and verify that last dimension has value 4:"
      ],
      "metadata": {
        "id": "-mCwXsVIL44t"
      }
    },
    {
      "cell_type": "code",
      "source": [
        "list1 = list(range(10))\n",
        "arr = np.array(list1, ndmin=5)\n",
        "\n",
        "print(arr)\n",
        "print('shape of array :', arr.shape)"
      ],
      "metadata": {
        "colab": {
          "base_uri": "https://localhost:8080/"
        },
        "id": "tllEHT1OLxoS",
        "outputId": "c77c9280-2532-4649-b87c-99e14e6f5a3b"
      },
      "execution_count": 17,
      "outputs": [
        {
          "output_type": "stream",
          "name": "stdout",
          "text": [
            "[[[[[0 1 2 3 4 5 6 7 8 9]]]]]\n",
            "shape of array : (1, 1, 1, 1, 10)\n"
          ]
        }
      ]
    },
    {
      "cell_type": "code",
      "source": [],
      "metadata": {
        "id": "q3rcKyZeMNQD"
      },
      "execution_count": 15,
      "outputs": []
    },
    {
      "cell_type": "markdown",
      "source": [
        "# **Reshaping**\n",
        " - **Reshaping** means changing the shape of an array.\n",
        "   - The shape of an array is a tuple where each number represents the number of elements in each dimension.\n",
        " - Reshaping **numpy array** simply means changing the shape of the given array, \n",
        "  - by reshaping an array we can add or remove dimensions or change number of elements in each dimension.\n",
        "\n",
        " "
      ],
      "metadata": {
        "id": "LHcFEH0g5xPK"
      }
    },
    {
      "cell_type": "markdown",
      "source": [
        " > Syntax : array.reshape(shape)\n",
        "\n",
        " > Parameters : It take tuple as argument, tuple is the new shape to be formed\n",
        "\n",
        " > Return : It returns numpy.ndarray"
      ],
      "metadata": {
        "id": "-58rpfR50bZ4"
      }
    },
    {
      "cell_type": "markdown",
      "source": [
        "**Reshape From 1-D to 2-D**"
      ],
      "metadata": {
        "id": "h6C2a2C26Q5C"
      }
    },
    {
      "cell_type": "code",
      "source": [
        "import numpy as np\n",
        "\n",
        "arr = np.array([1, 2, 3, 4, 5, 6, 7, 8, 9, 10, 11, 12])\n",
        "\n",
        "newarr = arr.reshape(4, 3)\n",
        "print(newarr)\n",
        "\n",
        "print('-----------------------')\n",
        "newarr = arr.reshape(3, 4)\n",
        "print(newarr)"
      ],
      "metadata": {
        "id": "Aj1LtjzGtwrq",
        "colab": {
          "base_uri": "https://localhost:8080/"
        },
        "outputId": "fb5c4f1b-7e14-4ca2-9691-d885e9cc45d8"
      },
      "execution_count": 23,
      "outputs": [
        {
          "output_type": "stream",
          "name": "stdout",
          "text": [
            "[[ 1  2  3]\n",
            " [ 4  5  6]\n",
            " [ 7  8  9]\n",
            " [10 11 12]]\n",
            "-----------------------\n",
            "[[ 1  2  3  4]\n",
            " [ 5  6  7  8]\n",
            " [ 9 10 11 12]]\n"
          ]
        }
      ]
    },
    {
      "cell_type": "markdown",
      "source": [
        "**Reshape From 1-D to 3-D**"
      ],
      "metadata": {
        "id": "rLkPwnhf6Tvq"
      }
    },
    {
      "cell_type": "code",
      "source": [
        "arr = np.array(list(range(1,21)))\n",
        "\n",
        "newarr = arr.reshape(2, 2, 5)\n",
        "print(newarr)\n",
        "\n",
        "print('-----------------------')\n",
        "\n",
        "newarr = arr.reshape(4, 5)\n",
        "print(newarr)\n",
        "\n",
        "print('-----------------------')\n",
        "\n",
        "newarr = arr.reshape(1, 4, 5)\n",
        "print(newarr)\n",
        "\n",
        "print('-----------------------')\n",
        "\n",
        "newarr = arr.reshape(1, 1, 4, 5)\n",
        "print(newarr)"
      ],
      "metadata": {
        "colab": {
          "base_uri": "https://localhost:8080/"
        },
        "id": "5unp3mjC58dN",
        "outputId": "bd882230-7845-4a00-9e53-57d5d0ca1a56"
      },
      "execution_count": 30,
      "outputs": [
        {
          "output_type": "stream",
          "name": "stdout",
          "text": [
            "[[[ 1  2  3  4  5]\n",
            "  [ 6  7  8  9 10]]\n",
            "\n",
            " [[11 12 13 14 15]\n",
            "  [16 17 18 19 20]]]\n",
            "-----------------------\n",
            "[[ 1  2  3  4  5]\n",
            " [ 6  7  8  9 10]\n",
            " [11 12 13 14 15]\n",
            " [16 17 18 19 20]]\n",
            "-----------------------\n",
            "[[[ 1  2  3  4  5]\n",
            "  [ 6  7  8  9 10]\n",
            "  [11 12 13 14 15]\n",
            "  [16 17 18 19 20]]]\n",
            "-----------------------\n",
            "[[[[ 1  2  3  4  5]\n",
            "   [ 6  7  8  9 10]\n",
            "   [11 12 13 14 15]\n",
            "   [16 17 18 19 20]]]]\n"
          ]
        }
      ]
    },
    {
      "cell_type": "code",
      "source": [
        "import numpy as npy\n",
        " \n",
        "# creating an array of 6 dimension\n",
        "# using ndim\n",
        "arr = npy.array([2, 4, 6, 8, 10], ndmin=6)\n",
        " \n",
        "# printing array\n",
        "print(arr)\n",
        " \n",
        "# verifying the value of last dimension\n",
        "# as 5\n",
        "print('shape of an array :', arr.shape)\n",
        "print(arr.shape[0], arr.shape[1], arr.shape[2], arr.shape[3], arr.shape[4], arr.shape[5])"
      ],
      "metadata": {
        "id": "TShH_Mz96ZiT",
        "colab": {
          "base_uri": "https://localhost:8080/"
        },
        "outputId": "fef64877-70e7-4720-abd5-c5fee16f2929"
      },
      "execution_count": 33,
      "outputs": [
        {
          "output_type": "stream",
          "name": "stdout",
          "text": [
            "[[[[[[ 2  4  6  8 10]]]]]]\n",
            "shape of an array : (1, 1, 1, 1, 1, 5)\n",
            "1 1 1 1 1 5\n"
          ]
        }
      ]
    },
    {
      "cell_type": "markdown",
      "source": [
        "To transpose an array:\n",
        "\n",
        " > **syntax:** array.T"
      ],
      "metadata": {
        "id": "k4XfuOFcx1-q"
      }
    },
    {
      "cell_type": "code",
      "source": [
        "a = np.zeros((10, 2))\n",
        "print(a)\n",
        "\n",
        "# A transpose makes the array non-contiguous\n",
        "b = a.T\n",
        "print('-------------------------------')\n",
        "print(b)\n",
        "\n",
        "# Taking a view makes it possible to modify the shape without modifying\n",
        "# the initial object.\n",
        "c = b.view()\n",
        "print('-------------------------------')\n",
        "print(c)\n",
        "\n"
      ],
      "metadata": {
        "colab": {
          "base_uri": "https://localhost:8080/"
        },
        "id": "TZJ7HQtqgCDl",
        "outputId": "5cfe29b8-3605-48fb-ce3d-9ad2320a4604"
      },
      "execution_count": 34,
      "outputs": [
        {
          "output_type": "stream",
          "name": "stdout",
          "text": [
            "[[0. 0.]\n",
            " [0. 0.]\n",
            " [0. 0.]\n",
            " [0. 0.]\n",
            " [0. 0.]\n",
            " [0. 0.]\n",
            " [0. 0.]\n",
            " [0. 0.]\n",
            " [0. 0.]\n",
            " [0. 0.]]\n",
            "-------------------------------\n",
            "[[0. 0. 0. 0. 0. 0. 0. 0. 0. 0.]\n",
            " [0. 0. 0. 0. 0. 0. 0. 0. 0. 0.]]\n",
            "-------------------------------\n",
            "[[0. 0. 0. 0. 0. 0. 0. 0. 0. 0.]\n",
            " [0. 0. 0. 0. 0. 0. 0. 0. 0. 0.]]\n"
          ]
        }
      ]
    },
    {
      "cell_type": "markdown",
      "source": [
        " > If **an integer**, then the result will be a **1-D array** of that length. Sometimes we pass (-1) as a parameter to flatten a multi-dimensional array into one-D array. \n",
        "\n",
        " > One shape dimension can be **-1**. In this case, **the value is inferred from the length of the array and remaining dimensions**. -1 represents the unknown value which will be calculated from the remaining elements \n",
        " \n",
        " - **Note:** We can not pass -1 to more than one dimension."
      ],
      "metadata": {
        "id": "EcC5yKbvvaRs"
      }
    },
    {
      "cell_type": "code",
      "source": [
        "arr = np.array(list(range(1,21)))\n",
        "\n",
        "newarr = arr.reshape(2, 2, -1)\n",
        "print(newarr)\n",
        "\n",
        "print('-----------------------')\n",
        "newarr = arr.reshape(2, 2, 5)\n",
        "print(newarr)\n",
        "\n",
        "print('-----------------------')\n",
        "newarr = arr.reshape(-1)\n",
        "print(newarr)\n",
        "\n",
        "print('-----------------------')\n",
        "newarr = arr.reshape(20)\n",
        "print(newarr)"
      ],
      "metadata": {
        "colab": {
          "base_uri": "https://localhost:8080/"
        },
        "id": "tGbK4o3SSCnx",
        "outputId": "28fbb133-2a29-42dc-e61b-c1abf7bc3b8a"
      },
      "execution_count": 47,
      "outputs": [
        {
          "output_type": "stream",
          "name": "stdout",
          "text": [
            "[[[ 1  2  3  4  5]\n",
            "  [ 6  7  8  9 10]]\n",
            "\n",
            " [[11 12 13 14 15]\n",
            "  [16 17 18 19 20]]]\n",
            "-----------------------\n",
            "[[[ 1  2  3  4  5]\n",
            "  [ 6  7  8  9 10]]\n",
            "\n",
            " [[11 12 13 14 15]\n",
            "  [16 17 18 19 20]]]\n",
            "-----------------------\n",
            "[ 1  2  3  4  5  6  7  8  9 10 11 12 13 14 15 16 17 18 19 20]\n",
            "-----------------------\n",
            "[ 1  2  3  4  5  6  7  8  9 10 11 12 13 14 15 16 17 18 19 20]\n"
          ]
        }
      ]
    },
    {
      "cell_type": "code",
      "source": [
        "arr1 = np.array([1, 2, 3])\n",
        "\n",
        "arr2 = np.array([4, 5, 6])\n",
        "\n",
        "arr = np.concatenate((arr1, arr2))\n",
        "\n",
        "print(arr)\n",
        "\n",
        "print(arr.shape)"
      ],
      "metadata": {
        "colab": {
          "base_uri": "https://localhost:8080/"
        },
        "id": "Yuzy6T78vGcl",
        "outputId": "6f1fbb86-eb93-42cf-abcd-87e517a639f4"
      },
      "execution_count": 49,
      "outputs": [
        {
          "output_type": "stream",
          "name": "stdout",
          "text": [
            "[1 2 3 4 5 6]\n",
            "(6,)\n"
          ]
        }
      ]
    },
    {
      "cell_type": "code",
      "source": [
        "arr = np.array([1, 2, 3, 4, 5, 4, 4])\n",
        "\n",
        "x = np.where(arr == 4)\n",
        "print(x)"
      ],
      "metadata": {
        "colab": {
          "base_uri": "https://localhost:8080/"
        },
        "id": "Cbu_JKm9zEW4",
        "outputId": "66105a15-3152-4a01-bb94-8ccf05cca21a"
      },
      "execution_count": 51,
      "outputs": [
        {
          "output_type": "stream",
          "name": "stdout",
          "text": [
            "(array([3, 5, 6]),)\n"
          ]
        }
      ]
    },
    {
      "cell_type": "code",
      "source": [
        "np.sort(arr)"
      ],
      "metadata": {
        "colab": {
          "base_uri": "https://localhost:8080/"
        },
        "id": "W3AI6fimzUao",
        "outputId": "ee3fcfaa-5f67-40e5-e3c3-76e40dd1139e"
      },
      "execution_count": 53,
      "outputs": [
        {
          "output_type": "execute_result",
          "data": {
            "text/plain": [
              "array([1, 2, 3, 4, 4, 4, 5])"
            ]
          },
          "metadata": {},
          "execution_count": 53
        }
      ]
    },
    {
      "cell_type": "markdown",
      "source": [
        "Size of an array:\n",
        " > array.size\n",
        "\n",
        " > len(array)"
      ],
      "metadata": {
        "id": "RzgfhDbW17tL"
      }
    },
    {
      "cell_type": "code",
      "source": [
        "arr.size"
      ],
      "metadata": {
        "colab": {
          "base_uri": "https://localhost:8080/"
        },
        "id": "s8rLiuCQzj0o",
        "outputId": "1b2b3a47-9606-47b8-ee53-5ac75ce534c2"
      },
      "execution_count": 54,
      "outputs": [
        {
          "output_type": "execute_result",
          "data": {
            "text/plain": [
              "7"
            ]
          },
          "metadata": {},
          "execution_count": 54
        }
      ]
    },
    {
      "cell_type": "code",
      "source": [
        "len(arr)\n"
      ],
      "metadata": {
        "colab": {
          "base_uri": "https://localhost:8080/"
        },
        "id": "-voA-j2g12Db",
        "outputId": "32127d97-1596-4e62-d137-ccaa269b0173"
      },
      "execution_count": 55,
      "outputs": [
        {
          "output_type": "execute_result",
          "data": {
            "text/plain": [
              "7"
            ]
          },
          "metadata": {},
          "execution_count": 55
        }
      ]
    },
    {
      "cell_type": "code",
      "source": [],
      "metadata": {
        "id": "EBaIqDLr15vp"
      },
      "execution_count": null,
      "outputs": []
    }
  ]
}